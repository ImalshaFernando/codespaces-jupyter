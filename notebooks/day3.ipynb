{
 "cells": [
  {
   "cell_type": "code",
   "execution_count": 4,
   "metadata": {},
   "outputs": [
    {
     "name": "stdout",
     "output_type": "stream",
     "text": [
      "[5, 2]\n"
     ]
    }
   ],
   "source": [
    "#find the common elements between two lists\n",
    "list1=[1,5,2,3,6]\n",
    "list2=[5,9,4,2,53]\n",
    "commonList=[]\n",
    "for x in list1:\n",
    "    for y in list2:\n",
    "        if(x==y):\n",
    "            commonList.append(x)\n",
    "        \n",
    "print(commonList);"
   ]
  },
  {
   "cell_type": "code",
   "execution_count": 7,
   "metadata": {},
   "outputs": [
    {
     "name": "stdout",
     "output_type": "stream",
     "text": [
      "[4, 8, 5, 9, 2, 3]\n"
     ]
    }
   ],
   "source": [
    "#remove duplicates from the list\n",
    "lst=[4,8,5,9,8,5,2,3,4]\n",
    "temp_list=[]\n",
    "for i in lst:\n",
    "    if i not in temp_list:\n",
    "        temp_list.append(i)   \n",
    "print(temp_list)"
   ]
  }
 ],
 "metadata": {
  "kernelspec": {
   "display_name": "Python 3",
   "language": "python",
   "name": "python3"
  },
  "language_info": {
   "codemirror_mode": {
    "name": "ipython",
    "version": 3
   },
   "file_extension": ".py",
   "mimetype": "text/x-python",
   "name": "python",
   "nbconvert_exporter": "python",
   "pygments_lexer": "ipython3",
   "version": "3.10.13"
  }
 },
 "nbformat": 4,
 "nbformat_minor": 2
}

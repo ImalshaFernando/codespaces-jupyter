{
 "cells": [
  {
   "cell_type": "code",
   "execution_count": 5,
   "metadata": {},
   "outputs": [
    {
     "name": "stdout",
     "output_type": "stream",
     "text": [
      "Hello World! Python 3\n"
     ]
    }
   ],
   "source": [
    "print('Hello World!', end=' ')\n",
    "print('Python 3')"
   ]
  },
  {
   "cell_type": "code",
   "execution_count": 7,
   "metadata": {},
   "outputs": [
    {
     "name": "stdout",
     "output_type": "stream",
     "text": [
      "Python-Java-PHP!\n",
      "IT/AMC/TEC!"
     ]
    }
   ],
   "source": [
    "print('Python','Java','PHP',sep='-',end='!\\n')\n",
    "print(\"IT\",\"AMC\",\"TEC\",sep='/',end='!')"
   ]
  },
  {
   "cell_type": "code",
   "execution_count": 12,
   "metadata": {},
   "outputs": [
    {
     "name": "stdout",
     "output_type": "stream",
     "text": [
      "aa\n",
      "***/*\n",
      "\n",
      "\n"
     ]
    }
   ],
   "source": [
    "print('a'*2)\n",
    "print('*' * 3,end='/')\n",
    "print('*',end='\\n' * 3)"
   ]
  },
  {
   "cell_type": "code",
   "execution_count": 6,
   "metadata": {},
   "outputs": [
    {
     "name": "stdout",
     "output_type": "stream",
     "text": [
      "IT AMC TEC\n",
      "IT-AMC-TEC\n"
     ]
    }
   ],
   "source": [
    "print(\"IT\",\"AMC\",\"TEC\")\n",
    "print(\"IT\",\"AMC\",\"TEC\",sep=\"-\")"
   ]
  }
 ],
 "metadata": {
  "kernelspec": {
   "display_name": "Python 3",
   "language": "python",
   "name": "python3"
  },
  "language_info": {
   "codemirror_mode": {
    "name": "ipython",
    "version": 3
   },
   "file_extension": ".py",
   "mimetype": "text/x-python",
   "name": "python",
   "nbconvert_exporter": "python",
   "pygments_lexer": "ipython3",
   "version": "3.10.13"
  }
 },
 "nbformat": 4,
 "nbformat_minor": 2
}

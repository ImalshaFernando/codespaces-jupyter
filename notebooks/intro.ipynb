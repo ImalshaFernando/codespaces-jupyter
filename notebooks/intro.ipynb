{
 "cells": [
  {
   "cell_type": "code",
   "execution_count": 5,
   "metadata": {},
   "outputs": [
    {
     "name": "stdout",
     "output_type": "stream",
     "text": [
      "Hello World! Python 3\n"
     ]
    }
   ],
   "source": [
    "print('Hello World!', end=' ')\n",
    "print('Python 3')"
   ]
  },
  {
   "cell_type": "code",
   "execution_count": 7,
   "metadata": {},
   "outputs": [
    {
     "name": "stdout",
     "output_type": "stream",
     "text": [
      "Python-Java-PHP!\n",
      "IT/AMC/TEC!"
     ]
    }
   ],
   "source": [
    "print('Python','Java','PHP',sep='-',end='!\\n')\n",
    "print(\"IT\",\"AMC\",\"TEC\",sep='/',end='!')"
   ]
  },
  {
   "cell_type": "code",
   "execution_count": 12,
   "metadata": {},
   "outputs": [
    {
     "name": "stdout",
     "output_type": "stream",
     "text": [
      "aa\n",
      "***/*\n",
      "\n",
      "\n"
     ]
    }
   ],
   "source": [
    "print('a'*2)\n",
    "print('*' * 3,end='/')\n",
    "print('*',end='\\n' * 3)"
   ]
  },
  {
   "cell_type": "code",
   "execution_count": 6,
   "metadata": {},
   "outputs": [
    {
     "name": "stdout",
     "output_type": "stream",
     "text": [
      "IT AMC TEC\n",
      "IT-AMC-TEC\n"
     ]
    }
   ],
   "source": [
    "print(\"IT\",\"AMC\",\"TEC\")\n",
    "print(\"IT\",\"AMC\",\"TEC\",sep=\"-\")"
   ]
  },
  {
   "cell_type": "code",
   "execution_count": 14,
   "metadata": {},
   "outputs": [
    {
     "name": "stdout",
     "output_type": "stream",
     "text": [
      "4 5\n"
     ]
    }
   ],
   "source": [
    "a = 4\n",
    "b = 5\n",
    "print(a,b)"
   ]
  },
  {
   "cell_type": "code",
   "execution_count": 23,
   "metadata": {},
   "outputs": [
    {
     "name": "stdout",
     "output_type": "stream",
     "text": [
      "4 , 4.0 , 0.4\n",
      "8.0 3.6\n",
      "8\n"
     ]
    }
   ],
   "source": [
    "a = 4\n",
    "b = 4.\n",
    "c = .4\n",
    "print(a,b,c,sep=' , ')\n",
    "print(a+b,b-c)\n",
    "print(2 ** 3)"
   ]
  },
  {
   "cell_type": "code",
   "execution_count": 19,
   "metadata": {},
   "outputs": [
    {
     "name": "stdout",
     "output_type": "stream",
     "text": [
      "2000.0\n",
      "4000000.0\n"
     ]
    }
   ],
   "source": [
    "print(2E3)\n",
    "print(4E6)"
   ]
  },
  {
   "cell_type": "code",
   "execution_count": 21,
   "metadata": {},
   "outputs": [
    {
     "name": "stdout",
     "output_type": "stream",
     "text": [
      "Python\n",
      "P\n",
      "o\n"
     ]
    }
   ],
   "source": [
    "subject = 'Python'\n",
    "print(subject)\n",
    "print(subject[0])\n",
    "print(subject[4])"
   ]
  },
  {
   "cell_type": "code",
   "execution_count": 24,
   "metadata": {},
   "outputs": [
    {
     "name": "stdout",
     "output_type": "stream",
     "text": [
      "1.5\n",
      "1\n"
     ]
    }
   ],
   "source": [
    "a = 6\n",
    "b = 4\n",
    "print(a / b)\n",
    "print(a // b)"
   ]
  },
  {
   "cell_type": "code",
   "execution_count": 26,
   "metadata": {},
   "outputs": [
    {
     "name": "stdout",
     "output_type": "stream",
     "text": [
      "25\n"
     ]
    }
   ],
   "source": [
    "print((2 + 3)* 5)"
   ]
  },
  {
   "cell_type": "markdown",
   "metadata": {},
   "source": []
  }
 ],
 "metadata": {
  "kernelspec": {
   "display_name": "Python 3",
   "language": "python",
   "name": "python3"
  },
  "language_info": {
   "codemirror_mode": {
    "name": "ipython",
    "version": 3
   },
   "file_extension": ".py",
   "mimetype": "text/x-python",
   "name": "python",
   "nbconvert_exporter": "python",
   "pygments_lexer": "ipython3",
   "version": "3.10.13"
  }
 },
 "nbformat": 4,
 "nbformat_minor": 2
}
